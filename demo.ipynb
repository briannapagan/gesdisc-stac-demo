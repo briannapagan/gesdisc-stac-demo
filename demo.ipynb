{
 "cells": [
  {
   "cell_type": "code",
   "execution_count": 23,
   "metadata": {},
   "outputs": [],
   "source": [
    "from pystac_client import Client  \n",
    "from satsearch import Search\n",
    "import pandas as pd\n",
    "from shapely.geometry import Polygon\n",
    "import requests\n",
    "import json\n"
   ]
  },
  {
   "cell_type": "markdown",
   "metadata": {},
   "source": [
    "### Using the STAC API, find GES DISC Collections"
   ]
  },
  {
   "cell_type": "code",
   "execution_count": 3,
   "metadata": {},
   "outputs": [
    {
     "name": "stdout",
     "output_type": "stream",
     "text": [
      "0 - LARC_ASDC\n",
      "1 - USGS_EROS\n",
      "2 - ESA\n",
      "3 - GHRC\n",
      "4 - LAADS\n",
      "5 - OBPG\n",
      "6 - OB_DAAC\n",
      "7 - ECHO\n",
      "8 - ISRO\n",
      "9 - LPCUMULUS\n",
      "10 - EDF_DEV04\n",
      "11 - GES_DISC\n",
      "12 - ASF\n",
      "13 - OMINRT\n",
      "14 - EUMETSAT\n",
      "15 - NCCS\n",
      "16 - NSIDCV0\n",
      "17 - PODAAC\n",
      "18 - LARC\n",
      "19 - USGS\n",
      "20 - SCIOPS\n",
      "21 - LANCEMODIS\n",
      "22 - CDDIS\n",
      "23 - JAXA\n",
      "24 - AU_AADC\n",
      "25 - ECHO10_OPS\n",
      "26 - LPDAAC_ECS\n",
      "27 - NSIDC_ECS\n",
      "28 - ORNL_DAAC\n",
      "29 - LM_FIRMS\n",
      "30 - SEDAC\n",
      "31 - LANCEAMSR2\n",
      "32 - NOAA_NCEI\n",
      "33 - USGS_LTA\n",
      "34 - GESDISCCLD\n",
      "35 - GHRSSTCWIC\n",
      "36 - LARC_CLOUD\n",
      "37 - ASIPS\n",
      "38 - ESDIS\n",
      "39 - POCLOUD\n",
      "40 - NSIDC_CPRD\n",
      "41 - ORNL_CLOUD\n",
      "42 - FEDEO\n",
      "43 - MLHUB\n",
      "44 - XYZ_PROV\n",
      "45 - GHRC_DAAC\n",
      "46 - CSDA\n",
      "47 - NRSCC\n",
      "48 - CEOS_EXTRA\n",
      "49 - AMD_KOPRI\n",
      "50 - AMD_USAPDC\n",
      "51 - MOPITT\n",
      "52 - GHRC_CLOUD\n",
      "53 - LPCLOUD\n",
      "54 - CCMEO\n"
     ]
    }
   ],
   "source": [
    "STAC_URL = 'https://cmr.earthdata.nasa.gov/stac'\n",
    "provider_cat = Client.open(STAC_URL)\n",
    "providers = [p for p in provider_cat.get_children()]\n",
    "\n",
    "for count, provider in enumerate(providers):\n",
    "    print(f'{count} - {provider.title}')"
   ]
  },
  {
   "cell_type": "code",
   "execution_count": 4,
   "metadata": {},
   "outputs": [],
   "source": [
    "gesdisc_stac = Client.open(f'{STAC_URL}/GES_DISC')\n"
   ]
  },
  {
   "cell_type": "code",
   "execution_count": 5,
   "metadata": {},
   "outputs": [
    {
     "name": "stdout",
     "output_type": "stream",
     "text": [
      "ACOS_L2_Lite_FP.v7.3: ACOS GOSAT/TANSO-FTS Level 2 bias-corrected XCO2 and other select fields from the full-physics retrieval aggregated as daily files V7.3 (ACOS_L2_Lite_FP) at GES DISC\n",
      "ACOS_L2_Lite_FP.v9r: ACOS GOSAT/TANSO-FTS Level 2 bias-corrected XCO2 and other select fields from the full-physics retrieval aggregated as daily files V9r (ACOS_L2_Lite_FP) at GES DISC\n",
      "ACOS_L2S.v7.3: ACOS GOSAT/TANSO-FTS Level 2 Full Physics Standard Product V7.3 (ACOS_L2S) at GES DISC\n",
      "ACOS_L2S.v9r: ACOS GOSAT/TANSO-FTS Level 2 Full Physics Standard Product V9r (ACOS_L2S) at GES DISC\n",
      "AIRSM_CPR_MAT.v3.2: AIRS-AMSU variables-CloudSat cloud mask, radar reflectivities, and cloud classification matchups V3.2 (AIRSM_CPR_MAT) at GES DISC\n",
      "AIRS_CPR_IND.v4.0: AIRS-CloudSat cloud mask and radar reflectivities collocation indexes V4.0 (AIRS_CPR_IND) at GES_DISC\n",
      "AIRS_CPR_MAT.v3.2: AIRS-CloudSat cloud mask, radar reflectivities, and cloud classification matchups V3.2 (AIRS_CPR_MAT) at GES DISC\n",
      "AIRXAMAP.v005: AIRS/Aqua Granule map product V005 (AIRXAMAP) at GES DISC\n",
      "AIRABRAD.v005: AIRS/Aqua L1B AMSU (A1/A2) geolocated and calibrated brightness temperatures V005 (AIRABRAD) at GES DISC\n",
      "AIRXBCAL.v005: AIRS/Aqua L1B Calibration subset V005 (AIRXBCAL) at GES DISC\n"
     ]
    }
   ],
   "source": [
    "collections = [c for c in gesdisc_stac.get_children()]\n",
    "for c in collections: \n",
    "    print(f\"{c.id}: {c.title}\")\n"
   ]
  },
  {
   "cell_type": "code",
   "execution_count": 6,
   "metadata": {},
   "outputs": [
    {
     "name": "stdout",
     "output_type": "stream",
     "text": [
      "{\n",
      "  \"bbox\": \"-119.63,37.813,-119.63,37.813\",\n",
      "  \"limit\": 5,\n",
      "  \"datetime\": \"2014-04-08T00:00:00Z/2015-04-08T00:00:00Z\",\n",
      "  \"collections\": [\n",
      "    \"AIRS_CPR_IND.v4.0\"\n",
      "  ],\n",
      "  \"page\": 1\n",
      "}\n"
     ]
    }
   ],
   "source": [
    "example_area = gpd.read_file('yosemite.geojson')\n",
    "with open('yosemite.geojson') as f:\n",
    "    aoi = json.load(f)['features'][0]\n",
    "poly = Polygon(aoi['geometry']['coordinates'][0])\n",
    "\n",
    "todays_date = datetime.today().strftime('%Y-%m-%dT%H:%M:%SZ')\n",
    "\n",
    "\n",
    "search_params = {\n",
    "    'bbox': f'{\",\".join([str(round(f,3)) for f in list(poly.bounds)])}',\n",
    "    'limit': 5,\n",
    "    'datetime': f'2014-04-08T00:00:00Z/2015-04-08T00:00:00Z',\n",
    "    'collections': ['AIRS_CPR_IND.v4.0'],\n",
    "    'page': 1\n",
    "}\n",
    "\n",
    "print(json.dumps(search_params, indent=2))\n",
    "\n",
    "\n"
   ]
  },
  {
   "cell_type": "code",
   "execution_count": 7,
   "metadata": {},
   "outputs": [
    {
     "name": "stdout",
     "output_type": "stream",
     "text": [
      "5 features found with first query\n"
     ]
    }
   ],
   "source": [
    "search_response = requests.post(f'{STAC_URL}/GES_DISC/search?', json=search_params).json()\n",
    "print('%d features found with first query' % len(search_response['features']))\n",
    "feats = search_response['features']\n"
   ]
  },
  {
   "cell_type": "code",
   "execution_count": 16,
   "metadata": {},
   "outputs": [
    {
     "name": "stdout",
     "output_type": "stream",
     "text": [
      "AIRS_CPR_IND.v4.0 2014-04-08T10:41:34.000Z download url:  https://cmr.earthdata.nasa.gov/stac/GES_DISC/collections/AIRS_CPR_IND.v4.0/items/AIRS_CPR_IND.4.0:index-airs.aqua_cloudsat-v4.0-2014.04.08.107.nc4\n",
      "AIRS_CPR_IND.v4.0 2014-04-08T20:11:34.000Z download url:  https://cmr.earthdata.nasa.gov/stac/GES_DISC/collections/AIRS_CPR_IND.v4.0/items/AIRS_CPR_IND.4.0:index-airs.aqua_cloudsat-v4.0-2014.04.08.202.nc4\n",
      "AIRS_CPR_IND.v4.0 2014-04-08T21:47:34.000Z download url:  https://cmr.earthdata.nasa.gov/stac/GES_DISC/collections/AIRS_CPR_IND.v4.0/items/AIRS_CPR_IND.4.0:index-airs.aqua_cloudsat-v4.0-2014.04.08.218.nc4\n",
      "AIRS_CPR_IND.v4.0 2014-04-10T10:29:34.000Z download url:  https://cmr.earthdata.nasa.gov/stac/GES_DISC/collections/AIRS_CPR_IND.v4.0/items/AIRS_CPR_IND.4.0:index-airs.aqua_cloudsat-v4.0-2014.04.10.105.nc4\n",
      "AIRS_CPR_IND.v4.0 2014-04-10T19:59:34.000Z download url:  https://cmr.earthdata.nasa.gov/stac/GES_DISC/collections/AIRS_CPR_IND.v4.0/items/AIRS_CPR_IND.4.0:index-airs.aqua_cloudsat-v4.0-2014.04.10.200.nc4\n"
     ]
    }
   ],
   "source": [
    "feats[0]['links'][0]['href']\n",
    "\n",
    "\n",
    "for feat in feats:\n",
    "    print('{:s} {:s} cmr url:  {:s}'.format(\n",
    "        feat['collection'], feat['properties']['datetime'], feat['links'][0]['href']\n",
    "    ))\n"
   ]
  }
 ],
 "metadata": {
  "kernelspec": {
   "display_name": "Python 3.9.15 ('venv-stac')",
   "language": "python",
   "name": "python3"
  },
  "language_info": {
   "codemirror_mode": {
    "name": "ipython",
    "version": 3
   },
   "file_extension": ".py",
   "mimetype": "text/x-python",
   "name": "python",
   "nbconvert_exporter": "python",
   "pygments_lexer": "ipython3",
   "version": "3.9.15"
  },
  "orig_nbformat": 4,
  "vscode": {
   "interpreter": {
    "hash": "f9cf6a435d3b197dc798978a5d3378a68175b56c60551c2f186ccfbbc0f15a7a"
   }
  }
 },
 "nbformat": 4,
 "nbformat_minor": 2
}
